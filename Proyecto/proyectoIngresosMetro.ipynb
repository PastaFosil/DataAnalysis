{
  "cells": [
    {
      "cell_type": "markdown",
      "metadata": {
        "id": "--e5ZWtYl_he"
      },
      "source": [
        "# Ejemplo 01:\n",
        "Estas son las librerías que utilizaremos."
      ]
    },
    {
      "cell_type": "code",
      "execution_count": 2,
      "metadata": {
        "collapsed": true,
        "id": "fY-I5i7Ql_hh"
      },
      "outputs": [],
      "source": [
        "import numpy as np\n",
        "import random\n",
        "import pandas as pd\n",
        "from matplotlib import pyplot as plt\n",
        "import seaborn as sns\n",
        "from matplotlib.ticker import FuncFormatter\n",
        "from sklearn.model_selection import train_test_split\n",
        "from sklearn.model_selection import KFold\n",
        "from sklearn.linear_model import LinearRegression\n",
        "from sklearn.metrics import mean_squared_error\n"
      ]
    },
    {
      "cell_type": "code",
      "execution_count": 3,
      "metadata": {
        "id": "Oj1L3KgYl_hi",
        "outputId": "d89b5bbf-b574-4497-bdd3-1e5946edab17"
      },
      "outputs": [
        {
          "data": {
            "text/html": [
              "<div>\n",
              "<style scoped>\n",
              "    .dataframe tbody tr th:only-of-type {\n",
              "        vertical-align: middle;\n",
              "    }\n",
              "\n",
              "    .dataframe tbody tr th {\n",
              "        vertical-align: top;\n",
              "    }\n",
              "\n",
              "    .dataframe thead th {\n",
              "        text-align: right;\n",
              "    }\n",
              "</style>\n",
              "<table border=\"1\" class=\"dataframe\">\n",
              "  <thead>\n",
              "    <tr style=\"text-align: right;\">\n",
              "      <th></th>\n",
              "      <th>fecha</th>\n",
              "      <th>dia</th>\n",
              "      <th>mes</th>\n",
              "      <th>año</th>\n",
              "      <th>dia_semana</th>\n",
              "      <th>linea</th>\n",
              "      <th>estacion</th>\n",
              "      <th>tipo_pago</th>\n",
              "      <th>afluencia</th>\n",
              "    </tr>\n",
              "  </thead>\n",
              "  <tbody>\n",
              "    <tr>\n",
              "      <th>0</th>\n",
              "      <td>2021-01-01</td>\n",
              "      <td>1</td>\n",
              "      <td>1</td>\n",
              "      <td>2021</td>\n",
              "      <td>Viernes</td>\n",
              "      <td>Línea 1</td>\n",
              "      <td>Balbuena</td>\n",
              "      <td>Boleto</td>\n",
              "      <td>1848</td>\n",
              "    </tr>\n",
              "    <tr>\n",
              "      <th>1</th>\n",
              "      <td>2021-01-01</td>\n",
              "      <td>1</td>\n",
              "      <td>1</td>\n",
              "      <td>2021</td>\n",
              "      <td>Viernes</td>\n",
              "      <td>Línea 1</td>\n",
              "      <td>Balbuena</td>\n",
              "      <td>Prepago</td>\n",
              "      <td>790</td>\n",
              "    </tr>\n",
              "    <tr>\n",
              "      <th>2</th>\n",
              "      <td>2021-01-01</td>\n",
              "      <td>1</td>\n",
              "      <td>1</td>\n",
              "      <td>2021</td>\n",
              "      <td>Viernes</td>\n",
              "      <td>Línea 1</td>\n",
              "      <td>Balbuena</td>\n",
              "      <td>Gratuidad</td>\n",
              "      <td>325</td>\n",
              "    </tr>\n",
              "    <tr>\n",
              "      <th>3</th>\n",
              "      <td>2021-01-01</td>\n",
              "      <td>1</td>\n",
              "      <td>1</td>\n",
              "      <td>2021</td>\n",
              "      <td>Viernes</td>\n",
              "      <td>Línea 1</td>\n",
              "      <td>Balderas</td>\n",
              "      <td>Boleto</td>\n",
              "      <td>1103</td>\n",
              "    </tr>\n",
              "    <tr>\n",
              "      <th>4</th>\n",
              "      <td>2021-01-01</td>\n",
              "      <td>1</td>\n",
              "      <td>1</td>\n",
              "      <td>2021</td>\n",
              "      <td>Viernes</td>\n",
              "      <td>Línea 1</td>\n",
              "      <td>Balderas</td>\n",
              "      <td>Prepago</td>\n",
              "      <td>922</td>\n",
              "    </tr>\n",
              "    <tr>\n",
              "      <th>...</th>\n",
              "      <td>...</td>\n",
              "      <td>...</td>\n",
              "      <td>...</td>\n",
              "      <td>...</td>\n",
              "      <td>...</td>\n",
              "      <td>...</td>\n",
              "      <td>...</td>\n",
              "      <td>...</td>\n",
              "      <td>...</td>\n",
              "    </tr>\n",
              "    <tr>\n",
              "      <th>569200</th>\n",
              "      <td>2023-08-31</td>\n",
              "      <td>31</td>\n",
              "      <td>8</td>\n",
              "      <td>2023</td>\n",
              "      <td>Jueves</td>\n",
              "      <td>Línea 12</td>\n",
              "      <td>Insurgentes Sur</td>\n",
              "      <td>Prepago</td>\n",
              "      <td>25758</td>\n",
              "    </tr>\n",
              "    <tr>\n",
              "      <th>569201</th>\n",
              "      <td>2023-08-31</td>\n",
              "      <td>31</td>\n",
              "      <td>8</td>\n",
              "      <td>2023</td>\n",
              "      <td>Jueves</td>\n",
              "      <td>Línea 12</td>\n",
              "      <td>Insurgentes Sur</td>\n",
              "      <td>Gratuidad</td>\n",
              "      <td>2810</td>\n",
              "    </tr>\n",
              "    <tr>\n",
              "      <th>569202</th>\n",
              "      <td>2023-08-31</td>\n",
              "      <td>31</td>\n",
              "      <td>8</td>\n",
              "      <td>2023</td>\n",
              "      <td>Jueves</td>\n",
              "      <td>Línea 12</td>\n",
              "      <td>Mixcoac</td>\n",
              "      <td>Boleto</td>\n",
              "      <td>0</td>\n",
              "    </tr>\n",
              "    <tr>\n",
              "      <th>569203</th>\n",
              "      <td>2023-08-31</td>\n",
              "      <td>31</td>\n",
              "      <td>8</td>\n",
              "      <td>2023</td>\n",
              "      <td>Jueves</td>\n",
              "      <td>Línea 12</td>\n",
              "      <td>Mixcoac</td>\n",
              "      <td>Prepago</td>\n",
              "      <td>11293</td>\n",
              "    </tr>\n",
              "    <tr>\n",
              "      <th>569204</th>\n",
              "      <td>2023-08-31</td>\n",
              "      <td>31</td>\n",
              "      <td>8</td>\n",
              "      <td>2023</td>\n",
              "      <td>Jueves</td>\n",
              "      <td>Línea 12</td>\n",
              "      <td>Mixcoac</td>\n",
              "      <td>Gratuidad</td>\n",
              "      <td>1201</td>\n",
              "    </tr>\n",
              "  </tbody>\n",
              "</table>\n",
              "<p>569205 rows × 9 columns</p>\n",
              "</div>"
            ],
            "text/plain": [
              "            fecha  dia  mes   año dia_semana     linea         estacion  \\\n",
              "0      2021-01-01    1    1  2021    Viernes   Línea 1         Balbuena   \n",
              "1      2021-01-01    1    1  2021    Viernes   Línea 1         Balbuena   \n",
              "2      2021-01-01    1    1  2021    Viernes   Línea 1         Balbuena   \n",
              "3      2021-01-01    1    1  2021    Viernes   Línea 1         Balderas   \n",
              "4      2021-01-01    1    1  2021    Viernes   Línea 1         Balderas   \n",
              "...           ...  ...  ...   ...        ...       ...              ...   \n",
              "569200 2023-08-31   31    8  2023     Jueves  Línea 12  Insurgentes Sur   \n",
              "569201 2023-08-31   31    8  2023     Jueves  Línea 12  Insurgentes Sur   \n",
              "569202 2023-08-31   31    8  2023     Jueves  Línea 12          Mixcoac   \n",
              "569203 2023-08-31   31    8  2023     Jueves  Línea 12          Mixcoac   \n",
              "569204 2023-08-31   31    8  2023     Jueves  Línea 12          Mixcoac   \n",
              "\n",
              "        tipo_pago  afluencia  \n",
              "0          Boleto       1848  \n",
              "1         Prepago        790  \n",
              "2       Gratuidad        325  \n",
              "3          Boleto       1103  \n",
              "4         Prepago        922  \n",
              "...           ...        ...  \n",
              "569200    Prepago      25758  \n",
              "569201  Gratuidad       2810  \n",
              "569202     Boleto          0  \n",
              "569203    Prepago      11293  \n",
              "569204  Gratuidad       1201  \n",
              "\n",
              "[569205 rows x 9 columns]"
            ]
          },
          "execution_count": 3,
          "metadata": {},
          "output_type": "execute_result"
        }
      ],
      "source": [
        "df = pd.read_csv('metro.csv')\n",
        "\n",
        "df['tipo_pago'].unique()\n",
        "\n",
        "df.rename(columns={'anio': 'año'}, inplace=True)\n",
        "\n",
        "df['fecha'] = pd.to_datetime(df['fecha'])\n",
        "\n",
        "df['dia_semana'] = df['fecha'].dt.day_name()\n",
        "\n",
        "df['año'] = df['fecha'].dt.year\n",
        "df['mes'] = df['fecha'].dt.month\n",
        "df['dia'] = df['fecha'].dt.day\n",
        "\n",
        "nuevo_orden = ['fecha', 'dia','mes','año',\"dia_semana\", 'linea', 'estacion', 'tipo_pago', 'afluencia']\n",
        "\n",
        "# Reorganizar las columnas según el nuevo orden\n",
        "df = df[nuevo_orden]\n",
        "\n",
        "mapeo_dias_semana = {\n",
        "    'Monday': 'Lunes',\n",
        "    'Tuesday': 'Martes',\n",
        "    'Wednesday': 'Miércoles',\n",
        "    'Thursday': 'Jueves',\n",
        "    'Friday': 'Viernes',\n",
        "    'Saturday': 'Sábado',\n",
        "    'Sunday': 'Domingo'\n",
        "}\n",
        "\n",
        "# Aplica la función de mapeo a la columna 'dia_semana' usando .loc\n",
        "df.loc[:, 'dia_semana'] = df['dia_semana'].map(mapeo_dias_semana)\n",
        "df"
      ]
    },
    {
      "cell_type": "code",
      "execution_count": 16,
      "metadata": {
        "id": "pN1rmVXAl_ho",
        "outputId": "306f3e40-d20b-43ff-f06c-6d861ca91db5"
      },
      "outputs": [
        {
          "data": {
            "image/png": "[encoded data removed]",
            "text/plain": [
              "<Figure size 720x576 with 1 Axes>"
            ]
          },
          "metadata": {
            "needs_background": "light"
          },
          "output_type": "display_data"
        }
      ],
      "source": [
        "# Agrupar por año y mes, y calcular la suma de la afluencia en cada grupo\n",
        "afluencia_por_mes_y_año = df.groupby(['año', 'mes'])['afluencia'].sum().reset_index()\n",
        "\n",
        "# Crear una figura con dos subgráficos (uno para afluencia mensual y otro para afluencia anual)\n",
        "fig, axes = plt.subplots(1, 1, figsize=(10, 8))\n",
        "\n",
        "# Función para formatear el eje y en millones\n",
        "def millones(x, pos):\n",
        "    return '%1.1fM' % (x * 1e-6)\n",
        "\n",
        "# Gráfico de afluencia anual\n",
        "sns.barplot(x='año', y='afluencia', data=afluencia_por_mes_y_año, errorbar=None)\n",
        "ax.set_title('Afluencia Anual')\n",
        "ax.set_xlabel('Año')\n",
        "ax.set_ylabel('Afluencia (personas)')\n",
        "ax.yaxis.set_major_formatter(FuncFormatter(millones))  # Formatear el eje y en millones\n",
        "\n",
        "# Ajustar el espacio entre los subgráficos\n",
        "plt.tight_layout()\n",
        "\n",
        "# Mostrar los gráficos\n",
        "plt.show()"
      ]
    },
    {
      "cell_type": "code",
      "execution_count": 4,
      "metadata": {},
      "outputs": [
        {
          "data": {
            "text/html": [
              "<div>\n",
              "<style scoped>\n",
              "    .dataframe tbody tr th:only-of-type {\n",
              "        vertical-align: middle;\n",
              "    }\n",
              "\n",
              "    .dataframe tbody tr th {\n",
              "        vertical-align: top;\n",
              "    }\n",
              "\n",
              "    .dataframe thead th {\n",
              "        text-align: right;\n",
              "    }\n",
              "</style>\n",
              "<table border=\"1\" class=\"dataframe\">\n",
              "  <thead>\n",
              "    <tr style=\"text-align: right;\">\n",
              "      <th></th>\n",
              "      <th>fecha</th>\n",
              "      <th>dia</th>\n",
              "      <th>mes</th>\n",
              "      <th>año</th>\n",
              "      <th>dia_semana</th>\n",
              "      <th>linea</th>\n",
              "      <th>estacion</th>\n",
              "      <th>tipo_pago</th>\n",
              "      <th>afluencia</th>\n",
              "    </tr>\n",
              "  </thead>\n",
              "  <tbody>\n",
              "    <tr>\n",
              "      <th>0</th>\n",
              "      <td>2021-01-01</td>\n",
              "      <td>1</td>\n",
              "      <td>1</td>\n",
              "      <td>2021</td>\n",
              "      <td>Viernes</td>\n",
              "      <td>Línea 1</td>\n",
              "      <td>Balbuena</td>\n",
              "      <td>Boleto</td>\n",
              "      <td>1848</td>\n",
              "    </tr>\n",
              "    <tr>\n",
              "      <th>1</th>\n",
              "      <td>2021-01-01</td>\n",
              "      <td>1</td>\n",
              "      <td>1</td>\n",
              "      <td>2021</td>\n",
              "      <td>Viernes</td>\n",
              "      <td>Línea 1</td>\n",
              "      <td>Balbuena</td>\n",
              "      <td>Prepago</td>\n",
              "      <td>790</td>\n",
              "    </tr>\n",
              "    <tr>\n",
              "      <th>2</th>\n",
              "      <td>2021-01-01</td>\n",
              "      <td>1</td>\n",
              "      <td>1</td>\n",
              "      <td>2021</td>\n",
              "      <td>Viernes</td>\n",
              "      <td>Línea 1</td>\n",
              "      <td>Balbuena</td>\n",
              "      <td>Gratuidad</td>\n",
              "      <td>325</td>\n",
              "    </tr>\n",
              "    <tr>\n",
              "      <th>3</th>\n",
              "      <td>2021-01-01</td>\n",
              "      <td>1</td>\n",
              "      <td>1</td>\n",
              "      <td>2021</td>\n",
              "      <td>Viernes</td>\n",
              "      <td>Línea 1</td>\n",
              "      <td>Balderas</td>\n",
              "      <td>Boleto</td>\n",
              "      <td>1103</td>\n",
              "    </tr>\n",
              "    <tr>\n",
              "      <th>4</th>\n",
              "      <td>2021-01-01</td>\n",
              "      <td>1</td>\n",
              "      <td>1</td>\n",
              "      <td>2021</td>\n",
              "      <td>Viernes</td>\n",
              "      <td>Línea 1</td>\n",
              "      <td>Balderas</td>\n",
              "      <td>Prepago</td>\n",
              "      <td>922</td>\n",
              "    </tr>\n",
              "    <tr>\n",
              "      <th>...</th>\n",
              "      <td>...</td>\n",
              "      <td>...</td>\n",
              "      <td>...</td>\n",
              "      <td>...</td>\n",
              "      <td>...</td>\n",
              "      <td>...</td>\n",
              "      <td>...</td>\n",
              "      <td>...</td>\n",
              "      <td>...</td>\n",
              "    </tr>\n",
              "    <tr>\n",
              "      <th>569200</th>\n",
              "      <td>2023-08-31</td>\n",
              "      <td>31</td>\n",
              "      <td>8</td>\n",
              "      <td>2023</td>\n",
              "      <td>Jueves</td>\n",
              "      <td>Línea 12</td>\n",
              "      <td>Insurgentes Sur</td>\n",
              "      <td>Prepago</td>\n",
              "      <td>25758</td>\n",
              "    </tr>\n",
              "    <tr>\n",
              "      <th>569201</th>\n",
              "      <td>2023-08-31</td>\n",
              "      <td>31</td>\n",
              "      <td>8</td>\n",
              "      <td>2023</td>\n",
              "      <td>Jueves</td>\n",
              "      <td>Línea 12</td>\n",
              "      <td>Insurgentes Sur</td>\n",
              "      <td>Gratuidad</td>\n",
              "      <td>2810</td>\n",
              "    </tr>\n",
              "    <tr>\n",
              "      <th>569202</th>\n",
              "      <td>2023-08-31</td>\n",
              "      <td>31</td>\n",
              "      <td>8</td>\n",
              "      <td>2023</td>\n",
              "      <td>Jueves</td>\n",
              "      <td>Línea 12</td>\n",
              "      <td>Mixcoac</td>\n",
              "      <td>Boleto</td>\n",
              "      <td>0</td>\n",
              "    </tr>\n",
              "    <tr>\n",
              "      <th>569203</th>\n",
              "      <td>2023-08-31</td>\n",
              "      <td>31</td>\n",
              "      <td>8</td>\n",
              "      <td>2023</td>\n",
              "      <td>Jueves</td>\n",
              "      <td>Línea 12</td>\n",
              "      <td>Mixcoac</td>\n",
              "      <td>Prepago</td>\n",
              "      <td>11293</td>\n",
              "    </tr>\n",
              "    <tr>\n",
              "      <th>569204</th>\n",
              "      <td>2023-08-31</td>\n",
              "      <td>31</td>\n",
              "      <td>8</td>\n",
              "      <td>2023</td>\n",
              "      <td>Jueves</td>\n",
              "      <td>Línea 12</td>\n",
              "      <td>Mixcoac</td>\n",
              "      <td>Gratuidad</td>\n",
              "      <td>1201</td>\n",
              "    </tr>\n",
              "  </tbody>\n",
              "</table>\n",
              "<p>569205 rows × 9 columns</p>\n",
              "</div>"
            ],
            "text/plain": [
              "            fecha  dia  mes   año dia_semana     linea         estacion  \\\n",
              "0      2021-01-01    1    1  2021    Viernes   Línea 1         Balbuena   \n",
              "1      2021-01-01    1    1  2021    Viernes   Línea 1         Balbuena   \n",
              "2      2021-01-01    1    1  2021    Viernes   Línea 1         Balbuena   \n",
              "3      2021-01-01    1    1  2021    Viernes   Línea 1         Balderas   \n",
              "4      2021-01-01    1    1  2021    Viernes   Línea 1         Balderas   \n",
              "...           ...  ...  ...   ...        ...       ...              ...   \n",
              "569200 2023-08-31   31    8  2023     Jueves  Línea 12  Insurgentes Sur   \n",
              "569201 2023-08-31   31    8  2023     Jueves  Línea 12  Insurgentes Sur   \n",
              "569202 2023-08-31   31    8  2023     Jueves  Línea 12          Mixcoac   \n",
              "569203 2023-08-31   31    8  2023     Jueves  Línea 12          Mixcoac   \n",
              "569204 2023-08-31   31    8  2023     Jueves  Línea 12          Mixcoac   \n",
              "\n",
              "        tipo_pago  afluencia  \n",
              "0          Boleto       1848  \n",
              "1         Prepago        790  \n",
              "2       Gratuidad        325  \n",
              "3          Boleto       1103  \n",
              "4         Prepago        922  \n",
              "...           ...        ...  \n",
              "569200    Prepago      25758  \n",
              "569201  Gratuidad       2810  \n",
              "569202     Boleto          0  \n",
              "569203    Prepago      11293  \n",
              "569204  Gratuidad       1201  \n",
              "\n",
              "[569205 rows x 9 columns]"
            ]
          },
          "execution_count": 4,
          "metadata": {},
          "output_type": "execute_result"
        }
      ],
      "source": [
        "df_copy = df.copy()\n",
        "df_copy"
      ]
    },
    {
      "cell_type": "markdown",
      "metadata": {},
      "source": [
        "# Periodos de muestra"
      ]
    },
    {
      "cell_type": "code",
      "execution_count": 5,
      "metadata": {},
      "outputs": [],
      "source": [
        "afluenciaMensual = df_copy.groupby(pd.Grouper(key='fecha', freq='M'))['afluencia'].sum()\n",
        "afluenciaSemanal = df_copy.groupby(pd.Grouper(key='fecha', freq='W'))['afluencia'].sum()\n",
        "afluenciaDiaria = df_copy.groupby('fecha')['afluencia'].sum()"
      ]
    },
    {
      "cell_type": "code",
      "execution_count": 6,
      "metadata": {},
      "outputs": [],
      "source": [
        "def millions_formatter(x, pos):\n",
        "    return f'{x/1e6:.0f}M'"
      ]
    },
    {
      "cell_type": "code",
      "execution_count": 13,
      "metadata": {},
      "outputs": [
        {
          "ename": "AttributeError",
          "evalue": "'AxesSubplot' object has no attribute 'xticks'",
          "output_type": "error",
          "traceback": [
            "\u001b[0;31m---------------------------------------------------------------------------\u001b[0m",
            "\u001b[0;31mAttributeError\u001b[0m                            Traceback (most recent call last)",
            "\u001b[0;32m/tmp/ipykernel_3705/3587419614.py\u001b[0m in \u001b[0;36m<module>\u001b[0;34m\u001b[0m\n\u001b[1;32m      2\u001b[0m \u001b[0;34m\u001b[0m\u001b[0m\n\u001b[1;32m      3\u001b[0m \u001b[0ma1\u001b[0m \u001b[0;34m=\u001b[0m \u001b[0msns\u001b[0m\u001b[0;34m.\u001b[0m\u001b[0mscatterplot\u001b[0m\u001b[0;34m(\u001b[0m\u001b[0mafluenciaMensual\u001b[0m\u001b[0;34m,\u001b[0m \u001b[0max\u001b[0m\u001b[0;34m=\u001b[0m\u001b[0ma1\u001b[0m\u001b[0;34m)\u001b[0m\u001b[0;34m\u001b[0m\u001b[0;34m\u001b[0m\u001b[0m\n\u001b[0;32m----> 4\u001b[0;31m \u001b[0ma1\u001b[0m\u001b[0;34m.\u001b[0m\u001b[0mxticks\u001b[0m\u001b[0;34m(\u001b[0m\u001b[0mrotation\u001b[0m\u001b[0;34m=\u001b[0m\u001b[0;36m90\u001b[0m\u001b[0;34m)\u001b[0m\u001b[0;34m\u001b[0m\u001b[0;34m\u001b[0m\u001b[0m\n\u001b[0m\u001b[1;32m      5\u001b[0m \u001b[0ma1\u001b[0m\u001b[0;34m.\u001b[0m\u001b[0myaxis\u001b[0m\u001b[0;34m.\u001b[0m\u001b[0mset_major_formatter\u001b[0m\u001b[0;34m(\u001b[0m\u001b[0mFuncFormatter\u001b[0m\u001b[0;34m(\u001b[0m\u001b[0mmillions_formatter\u001b[0m\u001b[0;34m)\u001b[0m\u001b[0;34m)\u001b[0m\u001b[0;34m\u001b[0m\u001b[0;34m\u001b[0m\u001b[0m\n\u001b[1;32m      6\u001b[0m \u001b[0;34m\u001b[0m\u001b[0m\n",
            "\u001b[0;31mAttributeError\u001b[0m: 'AxesSubplot' object has no attribute 'xticks'"
          ]
        },
        {
          "data": {
            "image/png": "[encoded data removed]",
            "text/plain": [
              "<Figure size 1440x360 with 3 Axes>"
            ]
          },
          "metadata": {
            "needs_background": "light"
          },
          "output_type": "display_data"
        }
      ],
      "source": [
        "f, (a1,a2,a3) = plt.subplots(1,3, figsize=(20,5))\n",
        "\n",
        "a1 = sns.scatterplot(afluenciaMensual, ax=a1)\n",
        "a1.xticks(rotation=90)\n",
        "a1.yaxis.set_major_formatter(FuncFormatter(millions_formatter))\n",
        "\n",
        "a2 = sns.scatterplot(afluenciaSemanal, ax=a2)\n",
        "plt.xticks(rotation=90)\n",
        "a2.yaxis.set_major_formatter(FuncFormatter(millions_formatter))\n",
        "\n",
        "a3 = sns.scatterplot(afluenciaDiaria, ax=a3)\n",
        "plt.xticks(rotation=90)\n",
        "a3.yaxis.set_major_formatter(FuncFormatter(millions_formatter))"
      ]
    },
    {
      "cell_type": "markdown",
      "metadata": {},
      "source": [
        "Regresion para datos mensuales"
      ]
    },
    {
      "cell_type": "code",
      "execution_count": 8,
      "metadata": {},
      "outputs": [],
      "source": [
        "from sklearn.model_selection import train_test_split, cross_val_score\n",
        "from sklearn.preprocessing import PolynomialFeatures\n",
        "from sklearn.linear_model import LinearRegression\n",
        "from sklearn.metrics import mean_squared_error"
      ]
    },
    {
      "cell_type": "code",
      "execution_count": 130,
      "metadata": {},
      "outputs": [],
      "source": [
        "#Convert datetime to seconds from start of data to make analysis\n",
        "df_mensual = afluenciaMensual.reset_index()\n",
        "df_mensual['seconds'] = (df_mensual['fecha']-pd.Timestamp(df_copy['fecha'].min()))//pd.Timedelta('1s')\n",
        "\n",
        "#Division en datos de entrenamiento y de prueba\n",
        "x_train_mensual, x_test_mensual, y_train_mensual, y_test_mensual = train_test_split(df_mensual['seconds'], df_mensual['afluencia'], test_size=.2, random_state=42)\n",
        "\n",
        "x_train_mensual = np.array(x_train_mensual)\n",
        "x_test_mensual = np.array(x_test_mensual)\n",
        "\n",
        "df_mensual_train = pd.DataFrame({'Fecha': x_train_mensual, 'Afluencia': y_train_mensual})"
      ]
    },
    {
      "cell_type": "code",
      "execution_count": 131,
      "metadata": {},
      "outputs": [
        {
          "data": {
            "text/html": [
              "<style>#sk-container-id-3 {color: black;background-color: white;}#sk-container-id-3 pre{padding: 0;}#sk-container-id-3 div.sk-toggleable {background-color: white;}#sk-container-id-3 label.sk-toggleable__label {cursor: pointer;display: block;width: 100%;margin-bottom: 0;padding: 0.3em;box-sizing: border-box;text-align: center;}#sk-container-id-3 label.sk-toggleable__label-arrow:before {content: \"▸\";float: left;margin-right: 0.25em;color: #696969;}#sk-container-id-3 label.sk-toggleable__label-arrow:hover:before {color: black;}#sk-container-id-3 div.sk-estimator:hover label.sk-toggleable__label-arrow:before {color: black;}#sk-container-id-3 div.sk-toggleable__content {max-height: 0;max-width: 0;overflow: hidden;text-align: left;background-color: #f0f8ff;}#sk-container-id-3 div.sk-toggleable__content pre {margin: 0.2em;color: black;border-radius: 0.25em;background-color: #f0f8ff;}#sk-container-id-3 input.sk-toggleable__control:checked~div.sk-toggleable__content {max-height: 200px;max-width: 100%;overflow: auto;}#sk-container-id-3 input.sk-toggleable__control:checked~label.sk-toggleable__label-arrow:before {content: \"▾\";}#sk-container-id-3 div.sk-estimator input.sk-toggleable__control:checked~label.sk-toggleable__label {background-color: #d4ebff;}#sk-container-id-3 div.sk-label input.sk-toggleable__control:checked~label.sk-toggleable__label {background-color: #d4ebff;}#sk-container-id-3 input.sk-hidden--visually {border: 0;clip: rect(1px 1px 1px 1px);clip: rect(1px, 1px, 1px, 1px);height: 1px;margin: -1px;overflow: hidden;padding: 0;position: absolute;width: 1px;}#sk-container-id-3 div.sk-estimator {font-family: monospace;background-color: #f0f8ff;border: 1px dotted black;border-radius: 0.25em;box-sizing: border-box;margin-bottom: 0.5em;}#sk-container-id-3 div.sk-estimator:hover {background-color: #d4ebff;}#sk-container-id-3 div.sk-parallel-item::after {content: \"\";width: 100%;border-bottom: 1px solid gray;flex-grow: 1;}#sk-container-id-3 div.sk-label:hover label.sk-toggleable__label {background-color: #d4ebff;}#sk-container-id-3 div.sk-serial::before {content: \"\";position: absolute;border-left: 1px solid gray;box-sizing: border-box;top: 0;bottom: 0;left: 50%;z-index: 0;}#sk-container-id-3 div.sk-serial {display: flex;flex-direction: column;align-items: center;background-color: white;padding-right: 0.2em;padding-left: 0.2em;position: relative;}#sk-container-id-3 div.sk-item {position: relative;z-index: 1;}#sk-container-id-3 div.sk-parallel {display: flex;align-items: stretch;justify-content: center;background-color: white;position: relative;}#sk-container-id-3 div.sk-item::before, #sk-container-id-3 div.sk-parallel-item::before {content: \"\";position: absolute;border-left: 1px solid gray;box-sizing: border-box;top: 0;bottom: 0;left: 50%;z-index: -1;}#sk-container-id-3 div.sk-parallel-item {display: flex;flex-direction: column;z-index: 1;position: relative;background-color: white;}#sk-container-id-3 div.sk-parallel-item:first-child::after {align-self: flex-end;width: 50%;}#sk-container-id-3 div.sk-parallel-item:last-child::after {align-self: flex-start;width: 50%;}#sk-container-id-3 div.sk-parallel-item:only-child::after {width: 0;}#sk-container-id-3 div.sk-dashed-wrapped {border: 1px dashed gray;margin: 0 0.4em 0.5em 0.4em;box-sizing: border-box;padding-bottom: 0.4em;background-color: white;}#sk-container-id-3 div.sk-label label {font-family: monospace;font-weight: bold;display: inline-block;line-height: 1.2em;}#sk-container-id-3 div.sk-label-container {text-align: center;}#sk-container-id-3 div.sk-container {/* jupyter's `normalize.less` sets `[hidden] { display: none; }` but bootstrap.min.css set `[hidden] { display: none !important; }` so we also need the `!important` here to be able to override the default hidden behavior on the sphinx rendered scikit-learn.org. See: https://github.com/scikit-learn/scikit-learn/issues/21755 */display: inline-block !important;position: relative;}#sk-container-id-3 div.sk-text-repr-fallback {display: none;}</style><div id=\"sk-container-id-3\" class=\"sk-top-container\"><div class=\"sk-text-repr-fallback\"><pre>LinearRegression()</pre><b>In a Jupyter environment, please rerun this cell to show the HTML representation or trust the notebook. <br />On GitHub, the HTML representation is unable to render, please try loading this page with nbviewer.org.</b></div><div class=\"sk-container\" hidden><div class=\"sk-item\"><div class=\"sk-estimator sk-toggleable\"><input class=\"sk-toggleable__control sk-hidden--visually\" id=\"sk-estimator-id-3\" type=\"checkbox\" checked><label for=\"sk-estimator-id-3\" class=\"sk-toggleable__label sk-toggleable__label-arrow\">LinearRegression</label><div class=\"sk-toggleable__content\"><pre>LinearRegression()</pre></div></div></div></div></div>"
            ],
            "text/plain": [
              "LinearRegression()"
            ]
          },
          "execution_count": 131,
          "metadata": {},
          "output_type": "execute_result"
        }
      ],
      "source": [
        "#Creacion y entrenamiento del modelo de regresion\n",
        "poly_features = PolynomialFeatures(degree=2)\n",
        "x_poly_mensual = poly_features.fit_transform(x_train_mensual.reshape(-1,1))\n",
        "poly_model_mensual = LinearRegression()\n",
        "\n",
        "poly_model_mensual.fit(x_poly_mensual, y_train_mensual)"
      ]
    },
    {
      "cell_type": "code",
      "execution_count": 132,
      "metadata": {},
      "outputs": [
        {
          "data": {
            "image/png": "[encoded data removed]",
            "text/plain": [
              "<Figure size 432x288 with 1 Axes>"
            ]
          },
          "metadata": {
            "needs_background": "light"
          },
          "output_type": "display_data"
        },
        {
          "name": "stdout",
          "output_type": "stream",
          "text": [
            "MSE en conjunto de prueba: 9961297804043.02\n",
            "MSE con validación cruzada: 39513141574414.48\n"
          ]
        }
      ],
      "source": [
        "#Prediccion\n",
        "x_test_mensual_poly = poly_features.transform(x_test_mensual.reshape(-1,1))\n",
        "y_pred_mensual = poly_model_mensual.predict(x_test_mensual_poly)\n",
        "\n",
        "#Calculo de error cuadratico \n",
        "mse = mean_squared_error(y_test_mensual, y_pred_mensual)\n",
        "\n",
        "#Validacion cruzada\n",
        "cv_scores = cross_val_score(poly_model_mensual, x_poly_mensual, y_train_mensual, cv=5, scoring='neg_mean_squared_error')\n",
        "mse_cv = -cv_scores.mean()\n",
        "\n",
        "# Visualizar las predicciones\n",
        "plt.scatter(x_train_mensual, y_train_mensual, label='Datos originales', color='blue')\n",
        "plt.scatter(x_test_mensual, y_pred_mensual, label='Predicciones', color='red', marker='x')\n",
        "plt.xlabel('X')\n",
        "plt.ylabel('y')\n",
        "plt.title('Predicciones de Regresión Polinomial')\n",
        "plt.legend()\n",
        "plt.show()\n",
        "\n",
        "# Imprimir los resultados\n",
        "print(\"MSE en conjunto de prueba:\", mse)\n",
        "print(\"MSE con validación cruzada:\", mse_cv)"
      ]
    },
    {
      "cell_type": "markdown",
      "metadata": {},
      "source": [
        "Regresion para datos semanales"
      ]
    },
    {
      "cell_type": "code",
      "execution_count": 133,
      "metadata": {},
      "outputs": [],
      "source": [
        "#Convert datetime to seconds from start of data to make analysis\n",
        "df_semanal = afluenciaSemanal.reset_index()\n",
        "df_semanal['seconds'] = (df_semanal['fecha']-pd.Timestamp(df_copy['fecha'].min()))//pd.Timedelta('1s')\n",
        "\n",
        "#Division en datos de entrenamiento y de prueba\n",
        "x_train_semanal, x_test_semanal, y_train_semanal, y_test_semanal = train_test_split(df_semanal['seconds'], df_semanal['afluencia'], test_size=.2, random_state=42)\n",
        "\n",
        "x_train_semanal = np.array(x_train_semanal)\n",
        "x_test_semanal = np.array(x_test_semanal)\n",
        "\n",
        "df_semanal_train = pd.DataFrame({'Fecha': x_train_semanal, 'Afluencia': y_train_semanal})"
      ]
    },
    {
      "cell_type": "code",
      "execution_count": 134,
      "metadata": {},
      "outputs": [
        {
          "data": {
            "text/html": [
              "<style>#sk-container-id-4 {color: black;background-color: white;}#sk-container-id-4 pre{padding: 0;}#sk-container-id-4 div.sk-toggleable {background-color: white;}#sk-container-id-4 label.sk-toggleable__label {cursor: pointer;display: block;width: 100%;margin-bottom: 0;padding: 0.3em;box-sizing: border-box;text-align: center;}#sk-container-id-4 label.sk-toggleable__label-arrow:before {content: \"▸\";float: left;margin-right: 0.25em;color: #696969;}#sk-container-id-4 label.sk-toggleable__label-arrow:hover:before {color: black;}#sk-container-id-4 div.sk-estimator:hover label.sk-toggleable__label-arrow:before {color: black;}#sk-container-id-4 div.sk-toggleable__content {max-height: 0;max-width: 0;overflow: hidden;text-align: left;background-color: #f0f8ff;}#sk-container-id-4 div.sk-toggleable__content pre {margin: 0.2em;color: black;border-radius: 0.25em;background-color: #f0f8ff;}#sk-container-id-4 input.sk-toggleable__control:checked~div.sk-toggleable__content {max-height: 200px;max-width: 100%;overflow: auto;}#sk-container-id-4 input.sk-toggleable__control:checked~label.sk-toggleable__label-arrow:before {content: \"▾\";}#sk-container-id-4 div.sk-estimator input.sk-toggleable__control:checked~label.sk-toggleable__label {background-color: #d4ebff;}#sk-container-id-4 div.sk-label input.sk-toggleable__control:checked~label.sk-toggleable__label {background-color: #d4ebff;}#sk-container-id-4 input.sk-hidden--visually {border: 0;clip: rect(1px 1px 1px 1px);clip: rect(1px, 1px, 1px, 1px);height: 1px;margin: -1px;overflow: hidden;padding: 0;position: absolute;width: 1px;}#sk-container-id-4 div.sk-estimator {font-family: monospace;background-color: #f0f8ff;border: 1px dotted black;border-radius: 0.25em;box-sizing: border-box;margin-bottom: 0.5em;}#sk-container-id-4 div.sk-estimator:hover {background-color: #d4ebff;}#sk-container-id-4 div.sk-parallel-item::after {content: \"\";width: 100%;border-bottom: 1px solid gray;flex-grow: 1;}#sk-container-id-4 div.sk-label:hover label.sk-toggleable__label {background-color: #d4ebff;}#sk-container-id-4 div.sk-serial::before {content: \"\";position: absolute;border-left: 1px solid gray;box-sizing: border-box;top: 0;bottom: 0;left: 50%;z-index: 0;}#sk-container-id-4 div.sk-serial {display: flex;flex-direction: column;align-items: center;background-color: white;padding-right: 0.2em;padding-left: 0.2em;position: relative;}#sk-container-id-4 div.sk-item {position: relative;z-index: 1;}#sk-container-id-4 div.sk-parallel {display: flex;align-items: stretch;justify-content: center;background-color: white;position: relative;}#sk-container-id-4 div.sk-item::before, #sk-container-id-4 div.sk-parallel-item::before {content: \"\";position: absolute;border-left: 1px solid gray;box-sizing: border-box;top: 0;bottom: 0;left: 50%;z-index: -1;}#sk-container-id-4 div.sk-parallel-item {display: flex;flex-direction: column;z-index: 1;position: relative;background-color: white;}#sk-container-id-4 div.sk-parallel-item:first-child::after {align-self: flex-end;width: 50%;}#sk-container-id-4 div.sk-parallel-item:last-child::after {align-self: flex-start;width: 50%;}#sk-container-id-4 div.sk-parallel-item:only-child::after {width: 0;}#sk-container-id-4 div.sk-dashed-wrapped {border: 1px dashed gray;margin: 0 0.4em 0.5em 0.4em;box-sizing: border-box;padding-bottom: 0.4em;background-color: white;}#sk-container-id-4 div.sk-label label {font-family: monospace;font-weight: bold;display: inline-block;line-height: 1.2em;}#sk-container-id-4 div.sk-label-container {text-align: center;}#sk-container-id-4 div.sk-container {/* jupyter's `normalize.less` sets `[hidden] { display: none; }` but bootstrap.min.css set `[hidden] { display: none !important; }` so we also need the `!important` here to be able to override the default hidden behavior on the sphinx rendered scikit-learn.org. See: https://github.com/scikit-learn/scikit-learn/issues/21755 */display: inline-block !important;position: relative;}#sk-container-id-4 div.sk-text-repr-fallback {display: none;}</style><div id=\"sk-container-id-4\" class=\"sk-top-container\"><div class=\"sk-text-repr-fallback\"><pre>LinearRegression()</pre><b>In a Jupyter environment, please rerun this cell to show the HTML representation or trust the notebook. <br />On GitHub, the HTML representation is unable to render, please try loading this page with nbviewer.org.</b></div><div class=\"sk-container\" hidden><div class=\"sk-item\"><div class=\"sk-estimator sk-toggleable\"><input class=\"sk-toggleable__control sk-hidden--visually\" id=\"sk-estimator-id-4\" type=\"checkbox\" checked><label for=\"sk-estimator-id-4\" class=\"sk-toggleable__label sk-toggleable__label-arrow\">LinearRegression</label><div class=\"sk-toggleable__content\"><pre>LinearRegression()</pre></div></div></div></div></div>"
            ],
            "text/plain": [
              "LinearRegression()"
            ]
          },
          "execution_count": 134,
          "metadata": {},
          "output_type": "execute_result"
        }
      ],
      "source": [
        "#Creacion y entrenamiento del modelo de regresion\n",
        "poly_features = PolynomialFeatures(degree=2)\n",
        "x_poly_semanal = poly_features.fit_transform(x_train_semanal.reshape(-1,1))\n",
        "poly_model_semanal = LinearRegression()\n",
        "\n",
        "poly_model_semanal.fit(x_poly_semanal, y_train_semanal)"
      ]
    },
    {
      "cell_type": "code",
      "execution_count": 137,
      "metadata": {},
      "outputs": [
        {
          "data": {
            "image/png": "[encoded data removed]",
            "text/plain": [
              "<Figure size 432x288 with 1 Axes>"
            ]
          },
          "metadata": {
            "needs_background": "light"
          },
          "output_type": "display_data"
        },
        {
          "name": "stdout",
          "output_type": "stream",
          "text": [
            "MSE en conjunto de prueba: 3739446187623.7583\n",
            "MSE con validación cruzada: 2717841785093.6084\n"
          ]
        }
      ],
      "source": [
        "#Prediccion\n",
        "x_test_semanal_poly = poly_features.transform(x_test_semanal.reshape(-1,1))\n",
        "y_pred_semanal = poly_model_semanal.predict(x_test_semanal_poly)\n",
        "\n",
        "#Calculo de error cuadratico \n",
        "mse = mean_squared_error(y_test_semanal, y_pred_semanal)\n",
        "\n",
        "#Validacion cruzada\n",
        "cv_scores = cross_val_score(poly_model_semanal, x_poly_semanal, y_train_semanal, cv=5, scoring='neg_mean_squared_error')\n",
        "mse_cv = -cv_scores.mean()\n",
        "\n",
        "# Visualizar las predicciones\n",
        "plt.scatter(x_train_semanal, y_train_semanal, label='Datos originales', color='blue')\n",
        "plt.scatter(x_test_semanal, y_pred_semanal, label='Predicciones', color='red', marker='x')\n",
        "plt.xlabel('X')\n",
        "plt.ylabel('y')\n",
        "plt.title('Predicciones de Regresión Polinomial')\n",
        "plt.legend()\n",
        "plt.show()\n",
        "\n",
        "# Imprimir los resultados\n",
        "print(\"MSE en conjunto de prueba:\", mse)\n",
        "print(\"MSE con validación cruzada:\", mse_cv)"
      ]
    },
    {
      "cell_type": "code",
      "execution_count": 138,
      "metadata": {},
      "outputs": [
        {
          "data": {
            "text/plain": [
              "108    20801719\n",
              "67     15938046\n",
              "31     15562022\n",
              "119    20924657\n",
              "42     17804426\n",
              "12     14857009\n",
              "81     17967705\n",
              "69     20644728\n",
              "104    15809044\n",
              "109    21541590\n",
              "113    22588833\n",
              "56     16353392\n",
              "66     20735658\n",
              "19     13918108\n",
              "132    20888666\n",
              "78     19536227\n",
              "11     14263384\n",
              "27     15826082\n",
              "127    21511231\n",
              "110    20226027\n",
              "36     16330599\n",
              "118    16225940\n",
              "60     18882636\n",
              "4       9734642\n",
              "131    20857971\n",
              "26     15162458\n",
              "138    22509876\n",
              "96     19877145\n",
              "Name: afluencia, dtype: int64"
            ]
          },
          "execution_count": 138,
          "metadata": {},
          "output_type": "execute_result"
        }
      ],
      "source": [
        "y_test_semanal"
      ]
    },
    {
      "cell_type": "code",
      "execution_count": 139,
      "metadata": {},
      "outputs": [
        {
          "data": {
            "text/plain": [
              "array([21321531.69516105, 19713268.59989228, 15764786.88737093,\n",
              "       21229643.46474417, 17222889.26213113, 12724702.94787903,\n",
              "       20608297.28026243, 19863089.56516609, 21300046.28407852,\n",
              "       21322328.10517733, 21307213.97422499, 18758409.92811165,\n",
              "       19635613.15160276, 13921592.91122824, 20835571.85547033,\n",
              "       20446700.04236189, 12546398.75899359, 15179668.52895127,\n",
              "       21023737.40107207, 21321294.53809186, 16455010.35060627,\n",
              "       21247146.82574533, 19131250.94272902, 11247030.07794673,\n",
              "       20876864.91879417, 15028813.99659199, 20549383.9563907 ,\n",
              "       21169236.56102973])"
            ]
          },
          "execution_count": 139,
          "metadata": {},
          "output_type": "execute_result"
        }
      ],
      "source": [
        "y_pred_semanal"
      ]
    },
    {
      "cell_type": "code",
      "execution_count": 140,
      "metadata": {},
      "outputs": [
        {
          "data": {
            "text/html": [
              "<div>\n",
              "<style scoped>\n",
              "    .dataframe tbody tr th:only-of-type {\n",
              "        vertical-align: middle;\n",
              "    }\n",
              "\n",
              "    .dataframe tbody tr th {\n",
              "        vertical-align: top;\n",
              "    }\n",
              "\n",
              "    .dataframe thead th {\n",
              "        text-align: right;\n",
              "    }\n",
              "</style>\n",
              "<table border=\"1\" class=\"dataframe\">\n",
              "  <thead>\n",
              "    <tr style=\"text-align: right;\">\n",
              "      <th></th>\n",
              "      <th>fecha</th>\n",
              "      <th>afluencia</th>\n",
              "      <th>seconds</th>\n",
              "    </tr>\n",
              "  </thead>\n",
              "  <tbody>\n",
              "    <tr>\n",
              "      <th>0</th>\n",
              "      <td>2021-01-03</td>\n",
              "      <td>3264500</td>\n",
              "      <td>172800</td>\n",
              "    </tr>\n",
              "    <tr>\n",
              "      <th>1</th>\n",
              "      <td>2021-01-10</td>\n",
              "      <td>11841665</td>\n",
              "      <td>777600</td>\n",
              "    </tr>\n",
              "    <tr>\n",
              "      <th>2</th>\n",
              "      <td>2021-01-17</td>\n",
              "      <td>7902883</td>\n",
              "      <td>1382400</td>\n",
              "    </tr>\n",
              "    <tr>\n",
              "      <th>3</th>\n",
              "      <td>2021-01-24</td>\n",
              "      <td>8289952</td>\n",
              "      <td>1987200</td>\n",
              "    </tr>\n",
              "    <tr>\n",
              "      <th>4</th>\n",
              "      <td>2021-01-31</td>\n",
              "      <td>9734642</td>\n",
              "      <td>2592000</td>\n",
              "    </tr>\n",
              "    <tr>\n",
              "      <th>...</th>\n",
              "      <td>...</td>\n",
              "      <td>...</td>\n",
              "      <td>...</td>\n",
              "    </tr>\n",
              "    <tr>\n",
              "      <th>135</th>\n",
              "      <td>2023-08-06</td>\n",
              "      <td>20937792</td>\n",
              "      <td>81820800</td>\n",
              "    </tr>\n",
              "    <tr>\n",
              "      <th>136</th>\n",
              "      <td>2023-08-13</td>\n",
              "      <td>21367172</td>\n",
              "      <td>82425600</td>\n",
              "    </tr>\n",
              "    <tr>\n",
              "      <th>137</th>\n",
              "      <td>2023-08-20</td>\n",
              "      <td>21926542</td>\n",
              "      <td>83030400</td>\n",
              "    </tr>\n",
              "    <tr>\n",
              "      <th>138</th>\n",
              "      <td>2023-08-27</td>\n",
              "      <td>22509876</td>\n",
              "      <td>83635200</td>\n",
              "    </tr>\n",
              "    <tr>\n",
              "      <th>139</th>\n",
              "      <td>2023-09-03</td>\n",
              "      <td>14000154</td>\n",
              "      <td>84240000</td>\n",
              "    </tr>\n",
              "  </tbody>\n",
              "</table>\n",
              "<p>140 rows × 3 columns</p>\n",
              "</div>"
            ],
            "text/plain": [
              "         fecha  afluencia   seconds\n",
              "0   2021-01-03    3264500    172800\n",
              "1   2021-01-10   11841665    777600\n",
              "2   2021-01-17    7902883   1382400\n",
              "3   2021-01-24    8289952   1987200\n",
              "4   2021-01-31    9734642   2592000\n",
              "..         ...        ...       ...\n",
              "135 2023-08-06   20937792  81820800\n",
              "136 2023-08-13   21367172  82425600\n",
              "137 2023-08-20   21926542  83030400\n",
              "138 2023-08-27   22509876  83635200\n",
              "139 2023-09-03   14000154  84240000\n",
              "\n",
              "[140 rows x 3 columns]"
            ]
          },
          "execution_count": 140,
          "metadata": {},
          "output_type": "execute_result"
        }
      ],
      "source": [
        "df_semanal"
      ]
    },
    {
      "cell_type": "markdown",
      "metadata": {},
      "source": [
        "# Linear"
      ]
    },
    {
      "cell_type": "code",
      "execution_count": 9,
      "metadata": {},
      "outputs": [],
      "source": [
        "df_semanal = afluenciaSemanal.reset_index()\n",
        "df_semanal['dias'] = (df_semanal['fecha'] - df_semanal['fecha'].min()).dt.days\n",
        "\n",
        "x = df_semanal[['dias']]\n",
        "y = df_semanal[['afluencia']]\n",
        "\n",
        "xTrain, xTest, yTrain, yTest = train_test_split(x, y, test_size=.2, random_state=42)"
      ]
    },
    {
      "cell_type": "code",
      "execution_count": 10,
      "metadata": {},
      "outputs": [
        {
          "data": {
            "text/html": [
              "<style>#sk-container-id-1 {color: black;background-color: white;}#sk-container-id-1 pre{padding: 0;}#sk-container-id-1 div.sk-toggleable {background-color: white;}#sk-container-id-1 label.sk-toggleable__label {cursor: pointer;display: block;width: 100%;margin-bottom: 0;padding: 0.3em;box-sizing: border-box;text-align: center;}#sk-container-id-1 label.sk-toggleable__label-arrow:before {content: \"▸\";float: left;margin-right: 0.25em;color: #696969;}#sk-container-id-1 label.sk-toggleable__label-arrow:hover:before {color: black;}#sk-container-id-1 div.sk-estimator:hover label.sk-toggleable__label-arrow:before {color: black;}#sk-container-id-1 div.sk-toggleable__content {max-height: 0;max-width: 0;overflow: hidden;text-align: left;background-color: #f0f8ff;}#sk-container-id-1 div.sk-toggleable__content pre {margin: 0.2em;color: black;border-radius: 0.25em;background-color: #f0f8ff;}#sk-container-id-1 input.sk-toggleable__control:checked~div.sk-toggleable__content {max-height: 200px;max-width: 100%;overflow: auto;}#sk-container-id-1 input.sk-toggleable__control:checked~label.sk-toggleable__label-arrow:before {content: \"▾\";}#sk-container-id-1 div.sk-estimator input.sk-toggleable__control:checked~label.sk-toggleable__label {background-color: #d4ebff;}#sk-container-id-1 div.sk-label input.sk-toggleable__control:checked~label.sk-toggleable__label {background-color: #d4ebff;}#sk-container-id-1 input.sk-hidden--visually {border: 0;clip: rect(1px 1px 1px 1px);clip: rect(1px, 1px, 1px, 1px);height: 1px;margin: -1px;overflow: hidden;padding: 0;position: absolute;width: 1px;}#sk-container-id-1 div.sk-estimator {font-family: monospace;background-color: #f0f8ff;border: 1px dotted black;border-radius: 0.25em;box-sizing: border-box;margin-bottom: 0.5em;}#sk-container-id-1 div.sk-estimator:hover {background-color: #d4ebff;}#sk-container-id-1 div.sk-parallel-item::after {content: \"\";width: 100%;border-bottom: 1px solid gray;flex-grow: 1;}#sk-container-id-1 div.sk-label:hover label.sk-toggleable__label {background-color: #d4ebff;}#sk-container-id-1 div.sk-serial::before {content: \"\";position: absolute;border-left: 1px solid gray;box-sizing: border-box;top: 0;bottom: 0;left: 50%;z-index: 0;}#sk-container-id-1 div.sk-serial {display: flex;flex-direction: column;align-items: center;background-color: white;padding-right: 0.2em;padding-left: 0.2em;position: relative;}#sk-container-id-1 div.sk-item {position: relative;z-index: 1;}#sk-container-id-1 div.sk-parallel {display: flex;align-items: stretch;justify-content: center;background-color: white;position: relative;}#sk-container-id-1 div.sk-item::before, #sk-container-id-1 div.sk-parallel-item::before {content: \"\";position: absolute;border-left: 1px solid gray;box-sizing: border-box;top: 0;bottom: 0;left: 50%;z-index: -1;}#sk-container-id-1 div.sk-parallel-item {display: flex;flex-direction: column;z-index: 1;position: relative;background-color: white;}#sk-container-id-1 div.sk-parallel-item:first-child::after {align-self: flex-end;width: 50%;}#sk-container-id-1 div.sk-parallel-item:last-child::after {align-self: flex-start;width: 50%;}#sk-container-id-1 div.sk-parallel-item:only-child::after {width: 0;}#sk-container-id-1 div.sk-dashed-wrapped {border: 1px dashed gray;margin: 0 0.4em 0.5em 0.4em;box-sizing: border-box;padding-bottom: 0.4em;background-color: white;}#sk-container-id-1 div.sk-label label {font-family: monospace;font-weight: bold;display: inline-block;line-height: 1.2em;}#sk-container-id-1 div.sk-label-container {text-align: center;}#sk-container-id-1 div.sk-container {/* jupyter's `normalize.less` sets `[hidden] { display: none; }` but bootstrap.min.css set `[hidden] { display: none !important; }` so we also need the `!important` here to be able to override the default hidden behavior on the sphinx rendered scikit-learn.org. See: https://github.com/scikit-learn/scikit-learn/issues/21755 */display: inline-block !important;position: relative;}#sk-container-id-1 div.sk-text-repr-fallback {display: none;}</style><div id=\"sk-container-id-1\" class=\"sk-top-container\"><div class=\"sk-text-repr-fallback\"><pre>LinearRegression()</pre><b>In a Jupyter environment, please rerun this cell to show the HTML representation or trust the notebook. <br />On GitHub, the HTML representation is unable to render, please try loading this page with nbviewer.org.</b></div><div class=\"sk-container\" hidden><div class=\"sk-item\"><div class=\"sk-estimator sk-toggleable\"><input class=\"sk-toggleable__control sk-hidden--visually\" id=\"sk-estimator-id-1\" type=\"checkbox\" checked><label for=\"sk-estimator-id-1\" class=\"sk-toggleable__label sk-toggleable__label-arrow\">LinearRegression</label><div class=\"sk-toggleable__content\"><pre>LinearRegression()</pre></div></div></div></div></div>"
            ],
            "text/plain": [
              "LinearRegression()"
            ]
          },
          "execution_count": 10,
          "metadata": {},
          "output_type": "execute_result"
        }
      ],
      "source": [
        "#Creacion de modelo y entrenamiento \n",
        "poly_features = PolynomialFeatures(degree=3)\n",
        "x_poly = poly_features.fit_transform(xTrain)\n",
        "poly_model = LinearRegression()\n",
        "\n",
        "poly_model.fit(x_poly,yTrain)"
      ]
    },
    {
      "cell_type": "code",
      "execution_count": 11,
      "metadata": {},
      "outputs": [],
      "source": [
        "#Prediccion de resultados\n",
        "\n",
        "xTest_poly = poly_features.transform(xTest)\n",
        "yPred = poly_model.predict(xTest_poly)"
      ]
    },
    {
      "cell_type": "code",
      "execution_count": 12,
      "metadata": {},
      "outputs": [
        {
          "data": {
            "image/png": "[encoded data removed]",
            "text/plain": [
              "<Figure size 432x288 with 1 Axes>"
            ]
          },
          "metadata": {
            "needs_background": "light"
          },
          "output_type": "display_data"
        },
        {
          "name": "stdout",
          "output_type": "stream",
          "text": [
            "MSE en conjunto de prueba: 3646201549421.8267\n",
            "MSE con validación cruzada: 2816755411949.1606\n"
          ]
        }
      ],
      "source": [
        "mse = mean_squared_error(yTest, yPred)\n",
        "\n",
        "# Realizar validación cruzada con 5 pliegues\n",
        "cv_scores = cross_val_score(poly_model, x_poly, yTrain, cv=5, scoring='neg_mean_squared_error')\n",
        "mse_cv = -cv_scores.mean()  # Negate the scores to get positive MSE values\n",
        "\n",
        "# Visualizar las predicciones\n",
        "plt.scatter(xTrain, yTrain, label='Datos originales', color='blue')\n",
        "plt.scatter(xTest, yPred, label='Predicciones', color='red', marker='x')\n",
        "plt.xlabel('X')\n",
        "plt.ylabel('y')\n",
        "plt.title('Predicciones de Regresión Polinomial')\n",
        "plt.legend()\n",
        "plt.show()\n",
        "\n",
        "# Imprimir los resultados\n",
        "print(\"MSE en conjunto de prueba:\", mse)\n",
        "print(\"MSE con validación cruzada:\", mse_cv)"
      ]
    },
    {
      "cell_type": "code",
      "execution_count": null,
      "metadata": {},
      "outputs": [],
      "source": []
    }
  ],
  "metadata": {
    "colab": {
      "provenance": []
    },
    "kernelspec": {
      "display_name": "Python 3",
      "language": "python",
      "name": "python3"
    },
    "language_info": {
      "codemirror_mode": {
        "name": "ipython",
        "version": 3
      },
      "file_extension": ".py",
      "mimetype": "text/x-python",
      "name": "python",
      "nbconvert_exporter": "python",
      "pygments_lexer": "ipython3",
      "version": "3.10.12"
    }
  },
  "nbformat": 4,
  "nbformat_minor": 0
}
